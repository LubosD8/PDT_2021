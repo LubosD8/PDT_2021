{
 "cells": [
  {
   "cell_type": "code",
   "execution_count": 1,
   "id": "b04dd03f-92e4-479a-9a61-2550ad9d645a",
   "metadata": {},
   "outputs": [
    {
     "name": "stderr",
     "output_type": "stream",
     "text": [
      "[nltk_data] Downloading package vader_lexicon to\n",
      "[nltk_data]     /home/docker_worker/nltk_data...\n",
      "[nltk_data]   Package vader_lexicon is already up-to-date!\n"
     ]
    }
   ],
   "source": [
    "import os\n",
    "import glob\n",
    "import psycopg2 as pg\n",
    "from psycopg2 import extras\n",
    "from psycopg2 import sql\n",
    "import pandas as pd  \n",
    "import nltk\n",
    "import re\n",
    "nltk.download('vader_lexicon')\n",
    "from nltk.sentiment.vader import SentimentIntensityAnalyzer\n",
    "from sqlalchemy import create_engine\n",
    "import swifter\n",
    "\n",
    "sid = SentimentIntensityAnalyzer()\n",
    "import datetime\n",
    "exitFlag = 0"
   ]
  },
  {
   "cell_type": "code",
   "execution_count": 2,
   "id": "b26abf22-ad31-46f2-b5e1-b9a9aeb76e6e",
   "metadata": {},
   "outputs": [
    {
     "name": "stdout",
     "output_type": "stream",
     "text": [
      "Zaciatok vyberu\n",
      "Koniec vyberu\n",
      "193 seconds\n",
      "Zaciatok prehadzovania na DF\n",
      "Koniec prehadzovania na DF\n"
     ]
    }
   ],
   "source": [
    "config = {\n",
    "    'host' : 'postgres',\n",
    "    'user' : 'postgres',\n",
    "    'password' : 'tuturu123',\n",
    "    'dbname' : 'pdt2021_tweets'\n",
    "}\n",
    "\n",
    "conn = pg.connect(**config)\n",
    "cursor = conn.cursor('cursor')\n",
    "tableName = 'test_table'\n",
    "\n",
    "queryText = '''select DISTINCT tw.id, tw.content from hashtags as h \n",
    "\tINNER join tweet_hashtags as th \ton th.hashtag_id = h.id\n",
    "\tINNER join tweets as tw \t\t    on tw.id = th.tweet_id\n",
    "\tWHERE h.value ilike any(array['%%DeepstateVirus%%',\n",
    "'%%DeepStateVaccine%%',\n",
    "'%%DeepStateFauci%%',\n",
    "'%%QAnon%%',\n",
    "'%%Agenda21%%',\n",
    "'%%CCPVirus%%',\n",
    "'%%ClimateChangeHoax%%',\n",
    "'%%GlobalWarmingHoax%%',\n",
    "'%%ChinaLiedPeopleDied%%',\n",
    "'%%SorosVirus%%',\n",
    "'%%5GCoronavirus%%',\n",
    "'%%MAGA%%',\n",
    "'%%WWG1WGA%%',\n",
    "'%%Chemtrails%%',\n",
    "'%%flatEarth%%',\n",
    "'%%MoonLandingHoax%%',\n",
    "'%%moonhoax%%',\n",
    "'%%illuminati%%',\n",
    "'%%pizzaGateIsReal%%',\n",
    "'%%PedoGateIsReal%%',\n",
    "'%%911truth%%',\n",
    "'%%911insidejob%%',\n",
    "'%%reptilians%%' \n",
    "]);'''\n",
    "\n",
    "\n",
    "a = datetime.datetime.now()\n",
    "print(\"Zaciatok vyberu\")\n",
    "cursor.execute(queryText)\n",
    "record = cursor.fetchall()\n",
    "print(\"Koniec vyberu\")\n",
    "b = datetime.datetime.now()\n",
    "c = b - a\n",
    "print(c.seconds, \"seconds\")\n",
    "print(\"Zaciatok prehadzovania na DF\")\n",
    "df = pd.DataFrame(record, columns=[\n",
    "'id',\n",
    "'content'\n",
    "])\n",
    "print(\"Koniec prehadzovania na DF\")\n"
   ]
  },
  {
   "cell_type": "code",
   "execution_count": null,
   "id": "3eacd5ad-8b9d-4ee6-8668-067e66b5b394",
   "metadata": {},
   "outputs": [
    {
     "data": {
      "application/vnd.jupyter.widget-view+json": {
       "model_id": "3d785a097e624705a08aae1dcb4fd908",
       "version_major": 2,
       "version_minor": 0
      },
      "text/plain": [
       "Dask Apply:   0%|          | 0/16 [00:00<?, ?it/s]"
      ]
     },
     "metadata": {},
     "output_type": "display_data"
    }
   ],
   "source": [
    "def remove_shit(text):\n",
    "    # remove hastags\n",
    "    hastag_pattern = re.compile(\"#([a-z-A-Z])\\w+\", flags=re.UNICODE)\n",
    "    text = hastag_pattern.sub(r'', text)\n",
    "    # remove metions\n",
    "    mentions_pattern = re.compile(\"@([a-z-A-Z])\\w+\", flags=re.UNICODE)\n",
    "    text = mentions_pattern.sub(r'', text)\n",
    "    # remove emotikons\n",
    "    emoji_pattern = re.compile(\"[\"\n",
    "        u\"\\U0001F600-\\U0001F64F\"  # emoticons\n",
    "        u\"\\U0001F300-\\U0001F5FF\"  # symbols & pictographs\n",
    "        u\"\\U0001F680-\\U0001F6FF\"  # transport & map symbols\n",
    "        u\"\\U0001F1E0-\\U0001F1FF\"  # flags (iOS)\n",
    "        u\"\\U00002500-\\U00002BEF\"  # chinese char\n",
    "        u\"\\U00002702-\\U000027B0\"\n",
    "        u\"\\U00002702-\\U000027B0\"\n",
    "        u\"\\U000024C2-\\U0001F251\"\n",
    "        u\"\\U0001f926-\\U0001f937\"\n",
    "        u\"\\U00010000-\\U0010ffff\"\n",
    "        u\"\\u2640-\\u2642\" \n",
    "        u\"\\u2600-\\u2B55\"\n",
    "        u\"\\u200d\"\n",
    "        u\"\\u23cf\"\n",
    "        u\"\\u23e9\"\n",
    "        u\"\\u231a\"\n",
    "        u\"\\ufe0f\"  # dingbats\n",
    "        u\"\\u3030\"\n",
    "                      \"]+\", re.UNICODE)\n",
    "    text = emoji_pattern.sub(r'', text)\n",
    "    return text\n",
    "\n",
    "def calculate_sentiment(text):\n",
    "    sentiment = sid.polarity_scores(text)\n",
    "    return sentiment\n",
    "    \n",
    "\n",
    "def update_vals(row):\n",
    "    text = row['content']\n",
    "    text = remove_shit(text)\n",
    "    row['content'] = text\n",
    "    sentiment = calculate_sentiment(text)\n",
    "    row['neg'] = sentiment['neg']\n",
    "    row['neu'] = sentiment['neu']\n",
    "    row['pos'] = sentiment['pos']\n",
    "    row['compound'] = sentiment['compound']      \n",
    "    return row\n",
    "\n",
    "df = df.swifter.apply(update_vals, axis=1)"
   ]
  },
  {
   "cell_type": "code",
   "execution_count": 23,
   "id": "18526a17-c0e8-4131-b16d-61f1a7db8118",
   "metadata": {},
   "outputs": [
    {
     "name": "stdout",
     "output_type": "stream",
     "text": [
      "<bound method DataFrame.count of                           id  \\\n",
      "0        1034289685227614208   \n",
      "1        1037494012033343488   \n",
      "2        1038674252940148736   \n",
      "3        1039279051456831489   \n",
      "4        1039284206856286208   \n",
      "...                      ...   \n",
      "2152419   984572021303664640   \n",
      "2152420   986043842603507712   \n",
      "2152421   988105922831667200   \n",
      "2152422   997954448407351296   \n",
      "2152423   998346648597221376   \n",
      "\n",
      "                                                   content  \n",
      "0        PEDOPHILIA IS AN EPIDEMIC IN USA-WORLD: \\n\\nSo...  \n",
      "1        \\nPEDOPHILIA ‘EPIDEMIC’ WORLD-UNTOUCHABLES:\\n\\...  \n",
      "2        and , Wary of , Agree to Strengthen Military T...  \n",
      "3        COMMUNlST CHlNA CENSORSHIP IN AMERICA: \\n\\nNYT...  \n",
      "4        China owns our dept. The Chinese Gov. are work...  \n",
      "...                                                    ...  \n",
      "2152419   \\nPedophilia Epidemic World: \\n\\nJimmy Savile...  \n",
      "2152420   \\n \\n \\n \\n\\nThread Within -\\nhttps://t.co/A9...  \n",
      "2152421   \\nCHILD TRAFFICKING: \\n\\nRoughly 800,000 chil...  \n",
      "2152422  But but but...CNN said trade wars and economic...  \n",
      "2152423  \\nCHINA READY TO OFFER EXPERTISE FOR DRC EBOLA...  \n",
      "\n",
      "[2152424 rows x 2 columns]>\n"
     ]
    }
   ],
   "source": [
    "# df = df.drop(['test'], axis = 1)\n",
    "\n",
    "print(df.count)"
   ]
  },
  {
   "cell_type": "code",
   "execution_count": null,
   "id": "d60d1d32-a80b-4fa1-9643-08f6f3ce4da0",
   "metadata": {},
   "outputs": [],
   "source": [
    "\n",
    "cursor.close()\n",
    "conn.close()\n"
   ]
  },
  {
   "cell_type": "code",
   "execution_count": 149,
   "id": "bf7f4b65-6910-4958-8064-18f5a57fc057",
   "metadata": {},
   "outputs": [],
   "source": [
    "df = pd.read_sql_query('''select * from test_table where content like '%%#%%' limit 100;''', conn)"
   ]
  },
  {
   "cell_type": "code",
   "execution_count": 150,
   "id": "80883adf-89b8-4722-8fa8-93623fa2de8d",
   "metadata": {},
   "outputs": [
    {
     "name": "stdout",
     "output_type": "stream",
     "text": [
      "index                                                             0\n",
      "id                                              1223809654129512453\n",
      "content           BREAKING: A Chinese in the Philippines, which ...\n",
      "location                                                       None\n",
      "retweet_count                                                    32\n",
      "favorite_count                                                   25\n",
      "happened_at                               2020-02-02 03:25:33+00:00\n",
      "author_id                                        911209149844688898\n",
      "country_id                                                     None\n",
      "parent_id                                                      None\n",
      "pos                                                             9.0\n",
      "Name: 0, dtype: object\n"
     ]
    }
   ],
   "source": [
    "print(df.loc[0])"
   ]
  },
  {
   "cell_type": "code",
   "execution_count": 179,
   "id": "2a409bdd-9133-4524-b974-9781fcbd415f",
   "metadata": {},
   "outputs": [],
   "source": [
    "def remove_shit(text):\n",
    "    # remove hastags\n",
    "    hastag_pattern = re.compile(\"#([a-z-A-Z])\\w+\\s+\", flags=re.UNICODE)\n",
    "    text = hastag_pattern.sub(r'', text)\n",
    "    # remove metions\n",
    "    mentions_pattern = re.compile(\"@([a-z-A-Z])\\w+:\\s+\", flags=re.UNICODE)\n",
    "    text = mentions_pattern.sub(r'', text)\n",
    "    # remove emotikons\n",
    "    emoji_pattern = re.compile(\"[\"\n",
    "        u\"\\U0001F600-\\U0001F64F\"  # emoticons\n",
    "        u\"\\U0001F300-\\U0001F5FF\"  # symbols & pictographs\n",
    "        u\"\\U0001F680-\\U0001F6FF\"  # transport & map symbols\n",
    "        u\"\\U0001F1E0-\\U0001F1FF\"  # flags (iOS)\n",
    "        u\"\\U00002500-\\U00002BEF\"  # chinese char\n",
    "        u\"\\U00002702-\\U000027B0\"\n",
    "        u\"\\U00002702-\\U000027B0\"\n",
    "        u\"\\U000024C2-\\U0001F251\"\n",
    "        u\"\\U0001f926-\\U0001f937\"\n",
    "        u\"\\U00010000-\\U0010ffff\"\n",
    "        u\"\\u2640-\\u2642\" \n",
    "        u\"\\u2600-\\u2B55\"\n",
    "        u\"\\u200d\"\n",
    "        u\"\\u23cf\"\n",
    "        u\"\\u23e9\"\n",
    "        u\"\\u231a\"\n",
    "        u\"\\ufe0f\"  # dingbats\n",
    "        u\"\\u3030\"\n",
    "                      \"]+\", re.UNICODE)\n",
    "    text = emoji_pattern.sub(r'', text)\n",
    "    return text\n",
    "\n",
    "for frame in df.iloc:\n",
    "    frame.content = remove_shit(frame.content)    \n",
    "\n"
   ]
  },
  {
   "cell_type": "code",
   "execution_count": 127,
   "id": "6f664f82-f22b-486c-aec8-1f66060b3ddf",
   "metadata": {},
   "outputs": [
    {
     "name": "stdout",
     "output_type": "stream",
     "text": [
      "id                                              1223809654129512453\n",
      "content           BREAKING: A Chinese in the Philippines, which ...\n",
      "location                                                       None\n",
      "retweet_count                                                    32\n",
      "favorite_count                                                   25\n",
      "happened_at                               2020-02-02 03:25:33+00:00\n",
      "author_id                                        911209149844688898\n",
      "country_id                                                     None\n",
      "parent_id                                                      None\n",
      "pos                                                             9.0\n",
      "Name: 0, dtype: object\n"
     ]
    }
   ],
   "source": [
    "df.loc[0, 'favorite_count'] = 25\n",
    "df.loc[0, 'pos'] = 9 \n",
    "print(df.loc[0])"
   ]
  },
  {
   "cell_type": "code",
   "execution_count": 128,
   "id": "4b461d6a-214e-416a-a189-d50a8521a599",
   "metadata": {},
   "outputs": [],
   "source": [
    "df.to_sql('test_table', conn, 'public', 'replace')"
   ]
  },
  {
   "cell_type": "code",
   "execution_count": 129,
   "id": "ef283918-0a19-4031-b358-36e98bf524b3",
   "metadata": {},
   "outputs": [
    {
     "name": "stdout",
     "output_type": "stream",
     "text": [
      "index                                                             0\n",
      "id                                              1223809654129512453\n",
      "content           BREAKING: A Chinese in the Philippines, which ...\n",
      "location                                                       None\n",
      "retweet_count                                                    32\n",
      "favorite_count                                                   25\n",
      "happened_at                               2020-02-02 03:25:33+00:00\n",
      "author_id                                        911209149844688898\n",
      "country_id                                                     None\n",
      "parent_id                                                      None\n",
      "pos                                                             9.0\n",
      "Name: 0, dtype: object\n"
     ]
    }
   ],
   "source": [
    "\n",
    "df_new = pd.read_sql_query('''select * from test_table t limit 10;''', conn)\n",
    "print(df_new.loc[0])"
   ]
  },
  {
   "cell_type": "code",
   "execution_count": null,
   "id": "72d66dc8-9b45-4e67-9bb1-462bf0c44371",
   "metadata": {},
   "outputs": [],
   "source": []
  }
 ],
 "metadata": {
  "kernelspec": {
   "display_name": "Python 3 (ipykernel)",
   "language": "python",
   "name": "python3"
  },
  "language_info": {
   "codemirror_mode": {
    "name": "ipython",
    "version": 3
   },
   "file_extension": ".py",
   "mimetype": "text/x-python",
   "name": "python",
   "nbconvert_exporter": "python",
   "pygments_lexer": "ipython3",
   "version": "3.9.6"
  }
 },
 "nbformat": 4,
 "nbformat_minor": 5
}
